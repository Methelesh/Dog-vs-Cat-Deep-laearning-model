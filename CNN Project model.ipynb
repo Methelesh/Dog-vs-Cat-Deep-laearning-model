{
 "cells": [
  {
   "cell_type": "code",
   "execution_count": 6,
   "id": "2e4e62d4",
   "metadata": {},
   "outputs": [],
   "source": [
    "import numpy as np\n",
    "import pandas as pd\n",
    "import matplotlib as mpl\n",
    "import matplotlib.pyplot as plt\n",
    "import os"
   ]
  },
  {
   "cell_type": "code",
   "execution_count": 7,
   "id": "2a90fec0",
   "metadata": {},
   "outputs": [],
   "source": [
    "import tensorflow as tf\n",
    "from tensorflow import keras"
   ]
  },
  {
   "cell_type": "markdown",
   "id": "a149c0ff",
   "metadata": {},
   "source": [
    "# Location directory"
   ]
  },
  {
   "cell_type": "code",
   "execution_count": 8,
   "id": "cfa0ae7d",
   "metadata": {},
   "outputs": [],
   "source": [
    "train_dir = r'C:\\Users\\Suresh\\cats_and_dogs_small\\train'\n",
    "validation_dir = r'C:\\Users\\Suresh\\cats_and_dogs_small\\validation'\n",
    "test_dir = r'C:\\Users\\Suresh\\cats_and_dogs_small\\test'"
   ]
  },
  {
   "cell_type": "markdown",
   "id": "0f65c504",
   "metadata": {},
   "source": [
    "# Data Preprocessing"
   ]
  },
  {
   "cell_type": "code",
   "execution_count": 4,
   "id": "f6620841",
   "metadata": {},
   "outputs": [],
   "source": [
    "from tensorflow.keras.preprocessing.image import ImageDataGenerator"
   ]
  },
  {
   "cell_type": "code",
   "execution_count": 11,
   "id": "2ed15151",
   "metadata": {},
   "outputs": [
    {
     "name": "stdout",
     "output_type": "stream",
     "text": [
      "Found 2000 images belonging to 2 classes.\n",
      "Found 1000 images belonging to 2 classes.\n"
     ]
    }
   ],
   "source": [
    "train_datagen = ImageDataGenerator(rescale = 1./255)\n",
    "test_datagen = ImageDataGenerator(rescale = 1./255)\n",
    "\n",
    "train_generator = train_datagen.flow_from_directory(\n",
    "train_dir,\n",
    "target_size = (150, 150),\n",
    "batch_size = 20,\n",
    "class_mode = 'binary')\n",
    "\n",
    "validation_generator = test_datagen.flow_from_directory(\n",
    "validation_dir,\n",
    "target_size = (150, 150),\n",
    "batch_size = 20,\n",
    "class_mode = 'binary')"
   ]
  },
  {
   "cell_type": "markdown",
   "id": "031d0ed5",
   "metadata": {},
   "source": [
    "# Creating model architecture"
   ]
  },
  {
   "cell_type": "code",
   "execution_count": 6,
   "id": "e28caa35",
   "metadata": {},
   "outputs": [],
   "source": [
    "from tensorflow.keras import layers\n",
    "from tensorflow.keras import models"
   ]
  },
  {
   "cell_type": "code",
   "execution_count": 7,
   "id": "cfcef0ac",
   "metadata": {},
   "outputs": [],
   "source": [
    "model = models.Sequential()\n",
    "\n",
    "model.add(layers.Conv2D(32, (3, 3), activation = \"relu\", input_shape = (150, 150, 3),))\n",
    "model.add(layers.MaxPooling2D((2, 2)))\n",
    "\n",
    "model.add(layers.Conv2D(64, (3, 3), activation = \"relu\"))\n",
    "model.add(layers.MaxPooling2D((2, 2)))\n",
    "\n",
    "model.add(layers.Conv2D(128, (3, 3), activation = \"relu\"))\n",
    "model.add(layers.MaxPooling2D((2, 2)))\n",
    "\n",
    "model.add(layers.Conv2D(128, (3, 3), activation = \"relu\"))\n",
    "model.add(layers.MaxPooling2D((2, 2)))\n",
    "\n",
    "model.add(layers.Flatten())\n",
    "model.add(layers.Dense(512, activation = \"relu\"))\n",
    "model.add(layers.Dense(1, activation = \"sigmoid\"))"
   ]
  },
  {
   "cell_type": "code",
   "execution_count": 8,
   "id": "0efa29c3",
   "metadata": {},
   "outputs": [
    {
     "name": "stdout",
     "output_type": "stream",
     "text": [
      "Model: \"sequential\"\n",
      "_________________________________________________________________\n",
      "Layer (type)                 Output Shape              Param #   \n",
      "=================================================================\n",
      "conv2d (Conv2D)              (None, 148, 148, 32)      896       \n",
      "_________________________________________________________________\n",
      "max_pooling2d (MaxPooling2D) (None, 74, 74, 32)        0         \n",
      "_________________________________________________________________\n",
      "conv2d_1 (Conv2D)            (None, 72, 72, 64)        18496     \n",
      "_________________________________________________________________\n",
      "max_pooling2d_1 (MaxPooling2 (None, 36, 36, 64)        0         \n",
      "_________________________________________________________________\n",
      "conv2d_2 (Conv2D)            (None, 34, 34, 128)       73856     \n",
      "_________________________________________________________________\n",
      "max_pooling2d_2 (MaxPooling2 (None, 17, 17, 128)       0         \n",
      "_________________________________________________________________\n",
      "conv2d_3 (Conv2D)            (None, 15, 15, 128)       147584    \n",
      "_________________________________________________________________\n",
      "max_pooling2d_3 (MaxPooling2 (None, 7, 7, 128)         0         \n",
      "_________________________________________________________________\n",
      "flatten (Flatten)            (None, 6272)              0         \n",
      "_________________________________________________________________\n",
      "dense (Dense)                (None, 512)               3211776   \n",
      "_________________________________________________________________\n",
      "dense_1 (Dense)              (None, 1)                 513       \n",
      "=================================================================\n",
      "Total params: 3,453,121\n",
      "Trainable params: 3,453,121\n",
      "Non-trainable params: 0\n",
      "_________________________________________________________________\n"
     ]
    }
   ],
   "source": [
    "model.summary()"
   ]
  },
  {
   "cell_type": "markdown",
   "id": "ba4b4e3e",
   "metadata": {},
   "source": [
    "# Compiling the model"
   ]
  },
  {
   "cell_type": "code",
   "execution_count": 9,
   "id": "9ad7079a",
   "metadata": {},
   "outputs": [],
   "source": [
    "from tensorflow.keras import optimizers\n",
    "\n",
    "model.compile(loss = \"binary_crossentropy\",\n",
    "             optimizer = optimizers.RMSprop(lr = 1e-4),\n",
    "             metrics = [\"acc\"])"
   ]
  },
  {
   "cell_type": "markdown",
   "id": "023184f7",
   "metadata": {},
   "source": [
    "# Training the model"
   ]
  },
  {
   "cell_type": "code",
   "execution_count": 10,
   "id": "718a47bd",
   "metadata": {},
   "outputs": [
    {
     "name": "stdout",
     "output_type": "stream",
     "text": [
      "WARNING:tensorflow:From <ipython-input-10-227ecf328316>:1: Model.fit_generator (from tensorflow.python.keras.engine.training) is deprecated and will be removed in a future version.\n",
      "Instructions for updating:\n",
      "Please use Model.fit, which supports generators.\n",
      "Epoch 1/20\n",
      "100/100 [==============================] - 56s 558ms/step - loss: 0.6920 - acc: 0.5120 - val_loss: 0.6790 - val_acc: 0.6040\n",
      "Epoch 2/20\n",
      "100/100 [==============================] - 64s 636ms/step - loss: 0.6619 - acc: 0.6155 - val_loss: 0.6510 - val_acc: 0.6200\n",
      "Epoch 3/20\n",
      "100/100 [==============================] - 63s 632ms/step - loss: 0.6191 - acc: 0.6710 - val_loss: 0.6276 - val_acc: 0.6470\n",
      "Epoch 4/20\n",
      "100/100 [==============================] - 59s 590ms/step - loss: 0.5773 - acc: 0.6920 - val_loss: 0.6358 - val_acc: 0.6330\n",
      "Epoch 5/20\n",
      "100/100 [==============================] - 57s 574ms/step - loss: 0.5473 - acc: 0.7260 - val_loss: 0.5841 - val_acc: 0.6910\n",
      "Epoch 6/20\n",
      "100/100 [==============================] - 63s 625ms/step - loss: 0.5149 - acc: 0.7465 - val_loss: 0.5967 - val_acc: 0.6870\n",
      "Epoch 7/20\n",
      "100/100 [==============================] - 64s 642ms/step - loss: 0.4899 - acc: 0.7595 - val_loss: 0.5728 - val_acc: 0.6880\n",
      "Epoch 8/20\n",
      "100/100 [==============================] - 66s 664ms/step - loss: 0.4636 - acc: 0.7780 - val_loss: 0.5621 - val_acc: 0.7020\n",
      "Epoch 9/20\n",
      "100/100 [==============================] - 59s 591ms/step - loss: 0.4309 - acc: 0.8050 - val_loss: 0.6071 - val_acc: 0.6980\n",
      "Epoch 10/20\n",
      "100/100 [==============================] - 56s 564ms/step - loss: 0.4086 - acc: 0.8160 - val_loss: 0.5416 - val_acc: 0.7140\n",
      "Epoch 11/20\n",
      "100/100 [==============================] - 57s 565ms/step - loss: 0.3831 - acc: 0.8245 - val_loss: 0.5300 - val_acc: 0.7380\n",
      "Epoch 12/20\n",
      "100/100 [==============================] - 56s 558ms/step - loss: 0.3548 - acc: 0.8495 - val_loss: 0.5272 - val_acc: 0.7430\n",
      "Epoch 13/20\n",
      "100/100 [==============================] - 55s 550ms/step - loss: 0.3339 - acc: 0.8545 - val_loss: 0.6731 - val_acc: 0.6970\n",
      "Epoch 14/20\n",
      "100/100 [==============================] - 60s 598ms/step - loss: 0.3077 - acc: 0.8630 - val_loss: 0.5873 - val_acc: 0.7330\n",
      "Epoch 15/20\n",
      "100/100 [==============================] - 58s 578ms/step - loss: 0.2955 - acc: 0.8845 - val_loss: 0.5911 - val_acc: 0.7210\n",
      "Epoch 16/20\n",
      "100/100 [==============================] - 56s 556ms/step - loss: 0.2664 - acc: 0.8975 - val_loss: 0.5653 - val_acc: 0.7390\n",
      "Epoch 17/20\n",
      "100/100 [==============================] - 54s 536ms/step - loss: 0.2366 - acc: 0.9050 - val_loss: 0.8566 - val_acc: 0.6700\n",
      "Epoch 18/20\n",
      "100/100 [==============================] - 54s 544ms/step - loss: 0.2254 - acc: 0.9165 - val_loss: 0.6146 - val_acc: 0.7310\n",
      "Epoch 19/20\n",
      "100/100 [==============================] - 58s 583ms/step - loss: 0.1980 - acc: 0.9230 - val_loss: 0.6367 - val_acc: 0.7280\n",
      "Epoch 20/20\n",
      "100/100 [==============================] - 67s 674ms/step - loss: 0.1756 - acc: 0.9360 - val_loss: 0.6142 - val_acc: 0.7290\n"
     ]
    }
   ],
   "source": [
    "model_history = model.fit_generator(train_generator, steps_per_epoch = 100, epochs = 5,\n",
    "                                  validation_data = validation_generator, validation_steps = 50)"
   ]
  },
  {
   "cell_type": "code",
   "execution_count": 11,
   "id": "15ae0364",
   "metadata": {},
   "outputs": [
    {
     "data": {
      "image/png": "[encoded data removed]",
      "text/plain": [
       "<Figure size 576x360 with 1 Axes>"
      ]
     },
     "metadata": {
      "needs_background": "light"
     },
     "output_type": "display_data"
    }
   ],
   "source": [
    "pd.DataFrame(model_history.history).plot(figsize = (8, 5))\n",
    "plt.grid(True)\n",
    "plt.gca().set_ylim(0, 1)\n",
    "plt.show()"
   ]
  },
  {
   "cell_type": "code",
   "execution_count": 12,
   "id": "4833ab7a",
   "metadata": {},
   "outputs": [],
   "source": [
    "model.save(\"model.h5\")"
   ]
  },
  {
   "cell_type": "code",
   "execution_count": 14,
   "id": "ed8361e1",
   "metadata": {},
   "outputs": [],
   "source": [
    "from tensorflow.keras import backend as k\n",
    "\n",
    "k.clear_session()\n",
    "del model"
   ]
  },
  {
   "cell_type": "markdown",
   "id": "5b712227",
   "metadata": {},
   "source": [
    "# Data Augmentation\n",
    "## Image preprocessing"
   ]
  },
  {
   "cell_type": "code",
   "execution_count": 25,
   "id": "f7eb2732",
   "metadata": {},
   "outputs": [
    {
     "name": "stdout",
     "output_type": "stream",
     "text": [
      "Found 2000 images belonging to 2 classes.\n",
      "Found 1000 images belonging to 2 classes.\n"
     ]
    }
   ],
   "source": [
    "train_datagen = ImageDataGenerator(\n",
    "rescale = 1./255,\n",
    "rotation_range = 40,\n",
    "width_shift_range = 0.2,\n",
    "height_shift_range = 0.2,\n",
    "shear_range = 0.2,\n",
    "zoom_range = 0.2,\n",
    "horizontal_flip = True)\n",
    "\n",
    "test_datagen = ImageDataGenerator(rescale = 1./255)\n",
    "\n",
    "train_generator = train_datagen.flow_from_directory(\n",
    "train_dir,\n",
    "target_size = (150, 150),\n",
    "batch_size = 32,\n",
    "class_mode = \"binary\")\n",
    "\n",
    "validation_generator = test_datagen.flow_from_directory(\n",
    "validation_dir,\n",
    "target_size = (150, 150),\n",
    "batch_size = 32,\n",
    "class_mode = \"binary\")\n"
   ]
  },
  {
   "cell_type": "markdown",
   "id": "9ca7a7cc",
   "metadata": {},
   "source": [
    "# Creating model architecture"
   ]
  },
  {
   "cell_type": "code",
   "execution_count": 27,
   "id": "42373e02",
   "metadata": {},
   "outputs": [],
   "source": [
    "model = models.Sequential()\n",
    "\n",
    "model.add(layers.Conv2D(32, (3, 3), activation = \"relu\", input_shape = (150, 150, 3),))\n",
    "model.add(layers.MaxPooling2D((2, 2)))\n",
    "\n",
    "model.add(layers.Conv2D(64, (3, 3), activation = \"relu\"))\n",
    "model.add(layers.MaxPooling2D((2, 2)))\n",
    "\n",
    "model.add(layers.Conv2D(128, (3, 3), activation = \"relu\"))\n",
    "model.add(layers.MaxPooling2D((2, 2)))\n",
    "\n",
    "model.add(layers.Conv2D(128, (3, 3), activation = \"relu\"))\n",
    "model.add(layers.MaxPooling2D((2, 2)))\n",
    "\n",
    "model.add(layers.Flatten())\n",
    "model.add(layers.Dropout(0.5))\n",
    "model.add(layers.Dense(512, activation = \"relu\"))\n",
    "model.add(layers.Dense(1, activation = \"sigmoid\"))"
   ]
  },
  {
   "cell_type": "markdown",
   "id": "69161933",
   "metadata": {},
   "source": [
    "# Compiling the model"
   ]
  },
  {
   "cell_type": "code",
   "execution_count": 28,
   "id": "095a5630",
   "metadata": {},
   "outputs": [],
   "source": [
    "model.compile(loss = \"binary_crossentropy\",\n",
    "             optimizer = optimizers.RMSprop(lr = 1e-4),\n",
    "             metrics = [\"acc\"])"
   ]
  },
  {
   "cell_type": "markdown",
   "id": "07cd48ad",
   "metadata": {},
   "source": [
    "# Model Training"
   ]
  },
  {
   "cell_type": "code",
   "execution_count": 32,
   "id": "00883e6b",
   "metadata": {},
   "outputs": [
    {
     "name": "stdout",
     "output_type": "stream",
     "text": [
      "Epoch 1/100\n",
      " 63/100 [=================>............] - ETA: 28s - loss: 0.6909 - acc: 0.5135WARNING:tensorflow:Your input ran out of data; interrupting training. Make sure that your dataset or generator can generate at least `steps_per_epoch * epochs` batches (in this case, 10000 batches). You may need to use the repeat() function when building your dataset.\n",
      "WARNING:tensorflow:Your input ran out of data; interrupting training. Make sure that your dataset or generator can generate at least `steps_per_epoch * epochs` batches (in this case, 50 batches). You may need to use the repeat() function when building your dataset.\n",
      " 63/100 [=================>............] - 57s 902ms/step - loss: 0.6909 - acc: 0.5135 - val_loss: 0.6864 - val_acc: 0.5380\n"
     ]
    }
   ],
   "source": [
    "model_history = model.fit_generator(train_generator, steps_per_epoch = 100, epochs = 100,\n",
    "                                  validation_data = validation_generator, validation_steps = 50)"
   ]
  },
  {
   "cell_type": "code",
   "execution_count": 34,
   "id": "ea850bd8",
   "metadata": {},
   "outputs": [],
   "source": [
    "model.save(\"snn_projecy_dogvscat.h5\")"
   ]
  },
  {
   "cell_type": "code",
   "execution_count": 35,
   "id": "ab3821e8",
   "metadata": {},
   "outputs": [
    {
     "data": {
      "image/png": "[encoded data removed]",
      "text/plain": [
       "<Figure size 576x360 with 1 Axes>"
      ]
     },
     "metadata": {
      "needs_background": "light"
     },
     "output_type": "display_data"
    }
   ],
   "source": [
    "pd.DataFrame(model_history.history).plot(figsize = (8, 5))\n",
    "plt.grid(True)\n",
    "plt.gca().set_ylim(0, 1)\n",
    "plt.show()"
   ]
  }
 ],
 "metadata": {
  "kernelspec": {
   "display_name": "Python 3",
   "language": "python",
   "name": "python3"
  },
  "language_info": {
   "codemirror_mode": {
    "name": "ipython",
    "version": 3
   },
   "file_extension": ".py",
   "mimetype": "text/x-python",
   "name": "python",
   "nbconvert_exporter": "python",
   "pygments_lexer": "ipython3",
   "version": "3.8.8"
  }
 },
 "nbformat": 4,
 "nbformat_minor": 5
}
